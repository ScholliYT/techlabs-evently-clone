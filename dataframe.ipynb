{
 "cells": [
  {
   "cell_type": "code",
   "execution_count": 3,
   "metadata": {},
   "outputs": [],
   "source": [
    "import pandas as pd\n",
    "import numpy as np\n"
   ]
  },
  {
   "cell_type": "code",
   "execution_count": 4,
   "metadata": {},
   "outputs": [],
   "source": [
    "museums = pd.read_csv('Museum.csv', sep=\";\")\n",
    "culture = pd.read_csv(\"Kultur_Veranstaltungen.csv\", sep=\";\")\n",
    "pools = pd.read_csv(\"Schwimmbad.csv\", sep=\";\")\n",
    "sports = pd.read_csv(\"Sportanlage.csv\", sep=\";\")\n"
   ]
  },
  {
   "cell_type": "code",
   "execution_count": 20,
   "metadata": {},
   "outputs": [],
   "source": [
    "#cleaning the data frames\n",
    "museums.drop(columns=[\"Strassenschlüssel\", \"Unterbezirksnummer\", \"x-Koordinate\", \"y-Koordinate\"], inplace=True)\n",
    "culture.drop(columns=[\"Strassenschlüssel\", \"Namenszusatz\", \"Unterbezirksnummer\", \"x-Koordinate\", \"y-Koordinate\"], inplace=True)\n",
    "pools.drop(columns=[\"Strassenschlüssel\", \"Unterbezirksnummer\", \"x-Koordinate\", \"y-Koordinate\"], inplace=True)\n",
    "sports.drop(columns=[\"Strassenschlüssel\", \"Namenszusatz\", \"Unterbezirksnummer\", \"x-Koordinate\", \"y-Koordinate\"], inplace=True)"
   ]
  },
  {
   "cell_type": "code",
   "execution_count": 29,
   "metadata": {},
   "outputs": [],
   "source": [
    "#merging data frames \n",
    "main_df = pd.concat([museums, culture, pools, sports])\n"
   ]
  },
  {
   "cell_type": "code",
   "execution_count": 30,
   "metadata": {},
   "outputs": [],
   "source": [
    "#saving as csv\n",
    "from pathlib import Path  \n",
    "filepath = Path('/Users/laura/Course_TechLabs/Data_Project/DS/main_df.csv')  \n",
    "filepath.parent.mkdir(parents=True, exist_ok=True)  \n",
    "main_df.to_csv(filepath)  "
   ]
  }
 ],
 "metadata": {
  "kernelspec": {
   "display_name": "myenv",
   "language": "python",
   "name": "python3"
  },
  "language_info": {
   "codemirror_mode": {
    "name": "ipython",
    "version": 3
   },
   "file_extension": ".py",
   "mimetype": "text/x-python",
   "name": "python",
   "nbconvert_exporter": "python",
   "pygments_lexer": "ipython3",
   "version": "3.10.9"
  },
  "orig_nbformat": 4,
  "vscode": {
   "interpreter": {
    "hash": "f143632556ae31ae6be9c3bd1c8112d5b8a31f8af2c3e7473ed2be179544d856"
   }
  }
 },
 "nbformat": 4,
 "nbformat_minor": 2
}
